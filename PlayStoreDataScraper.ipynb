{
 "cells": [
  {
   "cell_type": "code",
   "execution_count": 4,
   "metadata": {},
   "outputs": [],
   "source": [
    "## Maybe you need to install some libraries. You can just discomment the itens below:\n",
    "#!pip install pandas\n",
    "#!pip install requests\n",
    "#!pip install pysqlite3\n",
    "#!pip install sqlalchemy\n",
    "#!pip install bs4"
   ]
  },
  {
   "cell_type": "code",
   "execution_count": 5,
   "metadata": {},
   "outputs": [],
   "source": [
    "#Request to get the data\n",
    "import requests\n",
    "#BeautifulSoup to analyze\n",
    "from bs4 import BeautifulSoup\n",
    "#Pandas to structure table\n",
    "import pandas as pd"
   ]
  },
  {
   "cell_type": "code",
   "execution_count": 6,
   "metadata": {},
   "outputs": [],
   "source": [
    "base_url = \"https://play.google.com/store/search\"\n",
    "page_number = 1\n",
    "app_data = []\n",
    "\n",
    "while True:\n",
    "    url = f\"{base_url}?c=apps&page={page_number}\"\n",
    "    response = requests.get(url)\n",
    "    soup = BeautifulSoup(response.content, \"html.parser\")\n",
    "    \n",
    "    app_scores = soup.find_all(\"span\", class_=\"w2kbF\")\n",
    "    app_names = soup.find_all(\"span\", class_=\"DdYX5\")\n",
    "    app_owners = soup.find_all(\"span\", class_=\"wMUdtb\")\n",
    "    app_links = soup.find_all(\"a\", class_=\"Si6A0c Gy4nib\")\n",
    "    \n",
    "    if len(app_names) == 0:\n",
    "        break\n",
    "    \n",
    "    for score, name, owner, link in zip(app_scores, app_names, app_owners, app_links):\n",
    "        app_data.append({\n",
    "            \"app_score\": score.text.strip(),\n",
    "            \"app_name\": name.text.strip(),\n",
    "            \"app_owner\": owner.text.strip(),\n",
    "            \"app_links\": \"https://play.google.com\" + link.get(\"href\") if link else \"\"\n",
    "        })\n",
    "    \n",
    "    page_number += 1\n",
    "    \n",
    "        #limit number of pages scraped or it will cost a lot or remove this if statement to scrape everything\n",
    "    if page_number == 2:\n",
    "        break\n",
    "    \n",
    "\n",
    "# Create a DataFrame from the collected app data\n",
    "app_data = pd.DataFrame(app_data)"
   ]
  },
  {
   "cell_type": "code",
   "execution_count": 7,
   "metadata": {},
   "outputs": [],
   "source": [
    "# Access app_links and retrieve descriptions\n",
    "app_descriptions_text = []\n",
    "\n",
    "for app_link in app_data['app_links']:\n",
    "    if app_link:\n",
    "        response = requests.get(app_link)\n",
    "        soup = BeautifulSoup(response.content, \"html.parser\")\n",
    "        description_div = soup.find(\"div\", class_=\"bARER\")  # Adjust the class based on the actual structure\n",
    "        \n",
    "        if description_div:\n",
    "            description_parts = description_div.find_all(\"br\")\n",
    "            app_description_parts = []\n",
    "            for part in description_parts:\n",
    "                if \"Apple TV channels and content may vary by country or region.\" in str(part.previous_sibling):\n",
    "                    app_description_parts.append(str(part.previous_sibling))\n",
    "                    break\n",
    "                app_description_parts.append(str(part.previous_sibling))\n",
    "            \n",
    "            app_description = \"\\n\".join(app_description_parts).strip()\n",
    "            app_descriptions_text.append(app_description)\n",
    "        else:\n",
    "            app_descriptions_text.append(\"Description not found\")\n",
    "\n",
    "# Add descriptions to the DataFrame\n",
    "app_data['app_description_text'] = app_descriptions_text\n"
   ]
  },
  {
   "cell_type": "code",
   "execution_count": 8,
   "metadata": {},
   "outputs": [
    {
     "data": {
      "text/html": [
       "<div>\n",
       "<style scoped>\n",
       "    .dataframe tbody tr th:only-of-type {\n",
       "        vertical-align: middle;\n",
       "    }\n",
       "\n",
       "    .dataframe tbody tr th {\n",
       "        vertical-align: top;\n",
       "    }\n",
       "\n",
       "    .dataframe thead th {\n",
       "        text-align: right;\n",
       "    }\n",
       "</style>\n",
       "<table border=\"1\" class=\"dataframe\">\n",
       "  <thead>\n",
       "    <tr style=\"text-align: right;\">\n",
       "      <th></th>\n",
       "      <th>app_score</th>\n",
       "      <th>app_name</th>\n",
       "      <th>app_owner</th>\n",
       "      <th>app_links</th>\n",
       "      <th>app_description_text</th>\n",
       "    </tr>\n",
       "  </thead>\n",
       "  <tbody>\n",
       "    <tr>\n",
       "      <th>0</th>\n",
       "      <td>4.0</td>\n",
       "      <td>My Baby Unicorn - Pony Care</td>\n",
       "      <td>TutoTOONS</td>\n",
       "      <td>https://play.google.com/store/apps/details?id=...</td>\n",
       "      <td>You got a gift - a super cute virtual unicorn ...</td>\n",
       "    </tr>\n",
       "    <tr>\n",
       "      <th>1</th>\n",
       "      <td>3.8</td>\n",
       "      <td>My Baby Unicorn 2</td>\n",
       "      <td>TutoTOONS</td>\n",
       "      <td>https://play.google.com/store/apps/details?id=...</td>\n",
       "      <td>Welcome to the magical fantasy world of My Bab...</td>\n",
       "    </tr>\n",
       "  </tbody>\n",
       "</table>\n",
       "</div>"
      ],
      "text/plain": [
       "  app_score                     app_name  app_owner  \\\n",
       "0       4.0  My Baby Unicorn - Pony Care  TutoTOONS   \n",
       "1       3.8            My Baby Unicorn 2  TutoTOONS   \n",
       "\n",
       "                                           app_links  \\\n",
       "0  https://play.google.com/store/apps/details?id=...   \n",
       "1  https://play.google.com/store/apps/details?id=...   \n",
       "\n",
       "                                app_description_text  \n",
       "0  You got a gift - a super cute virtual unicorn ...  \n",
       "1  Welcome to the magical fantasy world of My Bab...  "
      ]
     },
     "execution_count": 8,
     "metadata": {},
     "output_type": "execute_result"
    }
   ],
   "source": [
    "#First two lines\n",
    "app_data.head(2)"
   ]
  },
  {
   "cell_type": "code",
   "execution_count": 9,
   "metadata": {},
   "outputs": [
    {
     "data": {
      "text/html": [
       "<div>\n",
       "<style scoped>\n",
       "    .dataframe tbody tr th:only-of-type {\n",
       "        vertical-align: middle;\n",
       "    }\n",
       "\n",
       "    .dataframe tbody tr th {\n",
       "        vertical-align: top;\n",
       "    }\n",
       "\n",
       "    .dataframe thead th {\n",
       "        text-align: right;\n",
       "    }\n",
       "</style>\n",
       "<table border=\"1\" class=\"dataframe\">\n",
       "  <thead>\n",
       "    <tr style=\"text-align: right;\">\n",
       "      <th></th>\n",
       "      <th>app_score</th>\n",
       "      <th>app_name</th>\n",
       "      <th>app_owner</th>\n",
       "      <th>app_links</th>\n",
       "      <th>app_description_text</th>\n",
       "    </tr>\n",
       "  </thead>\n",
       "  <tbody>\n",
       "    <tr>\n",
       "      <th>28</th>\n",
       "      <td>3.8</td>\n",
       "      <td>kawaii unicorn coloring book</td>\n",
       "      <td>Kawaii Apps</td>\n",
       "      <td>https://play.google.com/store/apps/details?id=...</td>\n",
       "      <td>Are you in love with unicorn ? Are you looking...</td>\n",
       "    </tr>\n",
       "    <tr>\n",
       "      <th>29</th>\n",
       "      <td>4.0</td>\n",
       "      <td>Magical Unicorn Candy World</td>\n",
       "      <td>winkypinky</td>\n",
       "      <td>https://play.google.com/store/apps/details?id=...</td>\n",
       "      <td>Find your way into this mystical adventure tha...</td>\n",
       "    </tr>\n",
       "  </tbody>\n",
       "</table>\n",
       "</div>"
      ],
      "text/plain": [
       "   app_score                      app_name    app_owner  \\\n",
       "28       3.8  kawaii unicorn coloring book  Kawaii Apps   \n",
       "29       4.0   Magical Unicorn Candy World   winkypinky   \n",
       "\n",
       "                                            app_links  \\\n",
       "28  https://play.google.com/store/apps/details?id=...   \n",
       "29  https://play.google.com/store/apps/details?id=...   \n",
       "\n",
       "                                 app_description_text  \n",
       "28  Are you in love with unicorn ? Are you looking...  \n",
       "29  Find your way into this mystical adventure tha...  "
      ]
     },
     "execution_count": 9,
     "metadata": {},
     "output_type": "execute_result"
    }
   ],
   "source": [
    "# Last two lines\n",
    "app_data.tail(2)"
   ]
  },
  {
   "cell_type": "code",
   "execution_count": 10,
   "metadata": {},
   "outputs": [
    {
     "ename": "ModuleNotFoundError",
     "evalue": "No module named 'sqlalchemy'",
     "output_type": "error",
     "traceback": [
      "\u001b[0;31m---------------------------------------------------------------------------\u001b[0m",
      "\u001b[0;31mModuleNotFoundError\u001b[0m                       Traceback (most recent call last)",
      "Cell \u001b[0;32mIn[10], line 3\u001b[0m\n\u001b[1;32m      1\u001b[0m \u001b[39m#Import libraries to save data to sql\u001b[39;00m\n\u001b[1;32m      2\u001b[0m \u001b[39mimport\u001b[39;00m \u001b[39msqlite3\u001b[39;00m\n\u001b[0;32m----> 3\u001b[0m \u001b[39mfrom\u001b[39;00m \u001b[39msqlalchemy\u001b[39;00m \u001b[39mimport\u001b[39;00m create_engine\n",
      "\u001b[0;31mModuleNotFoundError\u001b[0m: No module named 'sqlalchemy'"
     ]
    }
   ],
   "source": [
    "#Import libraries to save data to sql\n",
    "import sqlite3\n",
    "from sqlalchemy import create_engine"
   ]
  },
  {
   "cell_type": "code",
   "execution_count": null,
   "metadata": {},
   "outputs": [
    {
     "data": {
      "text/plain": [
       "30"
      ]
     },
     "execution_count": 55,
     "metadata": {},
     "output_type": "execute_result"
    }
   ],
   "source": [
    "# Name of the SQLite Database\n",
    "db_file = \"AppStoreData.db\"\n",
    "\n",
    "# Connect to SQLite using sqlalchemy using UTF-8\n",
    "engine = create_engine(f\"sqlite:///{db_file}\")\n",
    "conn = engine.connect()\n",
    "\n",
    "# Save data_apps dataframe to the PlayStoreData sql Database.\n",
    "app_data.to_sql(\"data_apps\", conn, if_exists=\"replace\", index=False)"
   ]
  },
  {
   "cell_type": "code",
   "execution_count": null,
   "metadata": {},
   "outputs": [],
   "source": [
    "# URL of the whatsapp page with reviews\n",
    "base_url = \"https://play.google.com/store/apps/details?id=com.whatsapp\"\n",
    "page_num = 1\n",
    "reviews_per_page = 10  # Number of reviews per page\n",
    "\n",
    "# Create empty lists to store data\n",
    "rating_values = []\n",
    "review_dates = []\n",
    "review_contents = []"
   ]
  },
  {
   "cell_type": "code",
   "execution_count": null,
   "metadata": {},
   "outputs": [],
   "source": [
    "while True:\n",
    "    # Construct the URL for the current page\n",
    "    url = f\"{base_url}&showAllReviews=true&page={page_num}\"\n",
    "\n",
    "    # Send a GET request to the URL\n",
    "    response = requests.get(url)\n",
    "\n",
    "    # Parse the HTML content using BeautifulSoup\n",
    "    soup = BeautifulSoup(response.content, \"html.parser\")\n",
    "\n",
    "    # Extract review ratings\n",
    "    ratings = soup.find_all(\"span\", class_=\"F7XJmb\")\n",
    "    rating_values.extend([rating.get(\"data-number\") for rating in ratings])\n",
    "\n",
    "    # Extract review dates\n",
    "    dates = soup.find_all(\"span\", class_=\"bp9Aid\")\n",
    "    review_dates.extend([date.get_text() for date in dates])\n",
    "\n",
    "    # Extract review contents\n",
    "    reviews = soup.find_all(\"div\", class_=\"h3YV2d\")  # Updated class name\n",
    "    review_contents.extend([review.get_text() if review else None for review in reviews])\n",
    "\n",
    "    # Check if there are no more reviews on the page\n",
    "    if len(ratings) < reviews_per_page:\n",
    "        break\n",
    "\n",
    "    # Increment the page number\n",
    "    page_num += 1\n",
    "\n",
    "    #limit number of pages scraped or it will cost a lot or remove this if statement to scrape everything\n",
    "    if page_num == 20:\n",
    "        break"
   ]
  },
  {
   "cell_type": "code",
   "execution_count": null,
   "metadata": {},
   "outputs": [],
   "source": [
    "# Ensure all lists are of the same length\n",
    "min_length = min(len(rating_values), len(review_dates), len(review_contents))\n",
    "rating_values = rating_values[:min_length]\n",
    "review_dates = review_dates[:min_length]\n",
    "review_contents = review_contents[:min_length]\n",
    "\n",
    "# Create a DataFrame to store the data\n",
    "comments_whatsapp = {\n",
    "    \"Rating\": rating_values,\n",
    "    \"Date\": review_dates,\n",
    "    \"Review\": review_contents\n",
    "}\n",
    "comments_whatsapp = pd.DataFrame(comments_whatsapp)"
   ]
  },
  {
   "cell_type": "code",
   "execution_count": null,
   "metadata": {},
   "outputs": [
    {
     "data": {
      "text/html": [
       "<div>\n",
       "<style scoped>\n",
       "    .dataframe tbody tr th:only-of-type {\n",
       "        vertical-align: middle;\n",
       "    }\n",
       "\n",
       "    .dataframe tbody tr th {\n",
       "        vertical-align: top;\n",
       "    }\n",
       "\n",
       "    .dataframe thead th {\n",
       "        text-align: right;\n",
       "    }\n",
       "</style>\n",
       "<table border=\"1\" class=\"dataframe\">\n",
       "  <thead>\n",
       "    <tr style=\"text-align: right;\">\n",
       "      <th></th>\n",
       "      <th>Rating</th>\n",
       "      <th>Date</th>\n",
       "      <th>Review</th>\n",
       "    </tr>\n",
       "  </thead>\n",
       "  <tbody>\n",
       "    <tr>\n",
       "      <th>0</th>\n",
       "      <td>1</td>\n",
       "      <td>August 4, 2023</td>\n",
       "      <td>I'm noticing the app continues to increase in ...</td>\n",
       "    </tr>\n",
       "    <tr>\n",
       "      <th>1</th>\n",
       "      <td>2</td>\n",
       "      <td>August 6, 2023</td>\n",
       "      <td>Um, with the last crash in Germany the audio i...</td>\n",
       "    </tr>\n",
       "    <tr>\n",
       "      <th>2</th>\n",
       "      <td>3</td>\n",
       "      <td>August 14, 2023</td>\n",
       "      <td>I love this app. To communicate with family wh...</td>\n",
       "    </tr>\n",
       "    <tr>\n",
       "      <th>3</th>\n",
       "      <td>4</td>\n",
       "      <td>August 4, 2023</td>\n",
       "      <td>I'm noticing the app continues to increase in ...</td>\n",
       "    </tr>\n",
       "    <tr>\n",
       "      <th>4</th>\n",
       "      <td>5</td>\n",
       "      <td>August 6, 2023</td>\n",
       "      <td>Um, with the last crash in Germany the audio i...</td>\n",
       "    </tr>\n",
       "  </tbody>\n",
       "</table>\n",
       "</div>"
      ],
      "text/plain": [
       "  Rating             Date                                             Review\n",
       "0      1   August 4, 2023  I'm noticing the app continues to increase in ...\n",
       "1      2   August 6, 2023  Um, with the last crash in Germany the audio i...\n",
       "2      3  August 14, 2023  I love this app. To communicate with family wh...\n",
       "3      4   August 4, 2023  I'm noticing the app continues to increase in ...\n",
       "4      5   August 6, 2023  Um, with the last crash in Germany the audio i..."
      ]
     },
     "execution_count": 59,
     "metadata": {},
     "output_type": "execute_result"
    }
   ],
   "source": [
    "# First five lines\n",
    "comments_whatsapp.head(5)"
   ]
  },
  {
   "cell_type": "code",
   "execution_count": null,
   "metadata": {},
   "outputs": [
    {
     "data": {
      "text/plain": [
       "57"
      ]
     },
     "execution_count": 60,
     "metadata": {},
     "output_type": "execute_result"
    }
   ],
   "source": [
    "# Save comments_whatsapp dataframe to the PlayStoreData sql database.\n",
    "comments_whatsapp.to_sql(\"comments_whatsapp\", conn, if_exists=\"replace\", index=False)"
   ]
  },
  {
   "cell_type": "code",
   "execution_count": null,
   "metadata": {},
   "outputs": [
    {
     "data": {
      "text/html": [
       "<div>\n",
       "<style scoped>\n",
       "    .dataframe tbody tr th:only-of-type {\n",
       "        vertical-align: middle;\n",
       "    }\n",
       "\n",
       "    .dataframe tbody tr th {\n",
       "        vertical-align: top;\n",
       "    }\n",
       "\n",
       "    .dataframe thead th {\n",
       "        text-align: right;\n",
       "    }\n",
       "</style>\n",
       "<table border=\"1\" class=\"dataframe\">\n",
       "  <thead>\n",
       "    <tr style=\"text-align: right;\">\n",
       "      <th></th>\n",
       "      <th>app_score</th>\n",
       "      <th>app_name</th>\n",
       "      <th>app_owner</th>\n",
       "      <th>app_links</th>\n",
       "      <th>app_description_text</th>\n",
       "    </tr>\n",
       "  </thead>\n",
       "  <tbody>\n",
       "    <tr>\n",
       "      <th>0</th>\n",
       "      <td>4.0</td>\n",
       "      <td>My Baby Unicorn - Pony Care</td>\n",
       "      <td>TutoTOONS</td>\n",
       "      <td>https://play.google.com/store/apps/details?id=...</td>\n",
       "      <td>You got a gift - a super cute virtual unicorn ...</td>\n",
       "    </tr>\n",
       "    <tr>\n",
       "      <th>1</th>\n",
       "      <td>3.8</td>\n",
       "      <td>My Baby Unicorn 2</td>\n",
       "      <td>TutoTOONS</td>\n",
       "      <td>https://play.google.com/store/apps/details?id=...</td>\n",
       "      <td>Welcome to the magical fantasy world of My Bab...</td>\n",
       "    </tr>\n",
       "    <tr>\n",
       "      <th>2</th>\n",
       "      <td>4.2</td>\n",
       "      <td>Twinkle - Unicorn Cat Princess</td>\n",
       "      <td>TutoTOONS</td>\n",
       "      <td>https://play.google.com/store/apps/details?id=...</td>\n",
       "      <td>Play the cutest virtual cat care game for girl...</td>\n",
       "    </tr>\n",
       "    <tr>\n",
       "      <th>3</th>\n",
       "      <td>4.0</td>\n",
       "      <td>Kpopsies - Hatch Baby Unicorns</td>\n",
       "      <td>TutoTOONS</td>\n",
       "      <td>https://play.google.com/store/apps/details?id=...</td>\n",
       "      <td>&lt;b&gt;Collect Virtual Pets&lt;/b&gt;\\n&lt;br/&gt;\\nMeet Kpops...</td>\n",
       "    </tr>\n",
       "    <tr>\n",
       "      <th>4</th>\n",
       "      <td>4.1</td>\n",
       "      <td>My Unicorn dress up for kids</td>\n",
       "      <td>Pazu Games</td>\n",
       "      <td>https://play.google.com/store/apps/details?id=...</td>\n",
       "      <td>My Unicorn is all about magical colors, cutene...</td>\n",
       "    </tr>\n",
       "  </tbody>\n",
       "</table>\n",
       "</div>"
      ],
      "text/plain": [
       "  app_score                        app_name   app_owner  \\\n",
       "0       4.0     My Baby Unicorn - Pony Care   TutoTOONS   \n",
       "1       3.8               My Baby Unicorn 2   TutoTOONS   \n",
       "2       4.2  Twinkle - Unicorn Cat Princess   TutoTOONS   \n",
       "3       4.0  Kpopsies - Hatch Baby Unicorns   TutoTOONS   \n",
       "4       4.1    My Unicorn dress up for kids  Pazu Games   \n",
       "\n",
       "                                           app_links  \\\n",
       "0  https://play.google.com/store/apps/details?id=...   \n",
       "1  https://play.google.com/store/apps/details?id=...   \n",
       "2  https://play.google.com/store/apps/details?id=...   \n",
       "3  https://play.google.com/store/apps/details?id=...   \n",
       "4  https://play.google.com/store/apps/details?id=...   \n",
       "\n",
       "                                app_description_text  \n",
       "0  You got a gift - a super cute virtual unicorn ...  \n",
       "1  Welcome to the magical fantasy world of My Bab...  \n",
       "2  Play the cutest virtual cat care game for girl...  \n",
       "3  <b>Collect Virtual Pets</b>\\n<br/>\\nMeet Kpops...  \n",
       "4  My Unicorn is all about magical colors, cutene...  "
      ]
     },
     "execution_count": 61,
     "metadata": {},
     "output_type": "execute_result"
    }
   ],
   "source": [
    "# Build SQL query to show data_apps table\n",
    "query = f'''\n",
    "SELECT * FROM data_apps limit 5;\n",
    "'''\n",
    "\n",
    "# Execute SQL query\n",
    "resultado_df = pd.read_sql_query(query, conn)\n",
    "\n",
    "#Show SQL data_app\n",
    "resultado_df"
   ]
  },
  {
   "cell_type": "code",
   "execution_count": null,
   "metadata": {},
   "outputs": [
    {
     "data": {
      "text/html": [
       "<div>\n",
       "<style scoped>\n",
       "    .dataframe tbody tr th:only-of-type {\n",
       "        vertical-align: middle;\n",
       "    }\n",
       "\n",
       "    .dataframe tbody tr th {\n",
       "        vertical-align: top;\n",
       "    }\n",
       "\n",
       "    .dataframe thead th {\n",
       "        text-align: right;\n",
       "    }\n",
       "</style>\n",
       "<table border=\"1\" class=\"dataframe\">\n",
       "  <thead>\n",
       "    <tr style=\"text-align: right;\">\n",
       "      <th></th>\n",
       "      <th>Rating</th>\n",
       "      <th>Date</th>\n",
       "      <th>Review</th>\n",
       "    </tr>\n",
       "  </thead>\n",
       "  <tbody>\n",
       "    <tr>\n",
       "      <th>0</th>\n",
       "      <td>1</td>\n",
       "      <td>August 4, 2023</td>\n",
       "      <td>I'm noticing the app continues to increase in ...</td>\n",
       "    </tr>\n",
       "    <tr>\n",
       "      <th>1</th>\n",
       "      <td>2</td>\n",
       "      <td>August 6, 2023</td>\n",
       "      <td>Um, with the last crash in Germany the audio i...</td>\n",
       "    </tr>\n",
       "    <tr>\n",
       "      <th>2</th>\n",
       "      <td>3</td>\n",
       "      <td>August 14, 2023</td>\n",
       "      <td>I love this app. To communicate with family wh...</td>\n",
       "    </tr>\n",
       "    <tr>\n",
       "      <th>3</th>\n",
       "      <td>4</td>\n",
       "      <td>August 4, 2023</td>\n",
       "      <td>I'm noticing the app continues to increase in ...</td>\n",
       "    </tr>\n",
       "    <tr>\n",
       "      <th>4</th>\n",
       "      <td>5</td>\n",
       "      <td>August 6, 2023</td>\n",
       "      <td>Um, with the last crash in Germany the audio i...</td>\n",
       "    </tr>\n",
       "  </tbody>\n",
       "</table>\n",
       "</div>"
      ],
      "text/plain": [
       "  Rating             Date                                             Review\n",
       "0      1   August 4, 2023  I'm noticing the app continues to increase in ...\n",
       "1      2   August 6, 2023  Um, with the last crash in Germany the audio i...\n",
       "2      3  August 14, 2023  I love this app. To communicate with family wh...\n",
       "3      4   August 4, 2023  I'm noticing the app continues to increase in ...\n",
       "4      5   August 6, 2023  Um, with the last crash in Germany the audio i..."
      ]
     },
     "execution_count": 62,
     "metadata": {},
     "output_type": "execute_result"
    }
   ],
   "source": [
    "# Build SQL query to show comments_whatsapp table\n",
    "query = f'''\n",
    "SELECT * FROM comments_whatsapp limit 5;\n",
    "'''\n",
    "\n",
    "# Execute SQL query\n",
    "resultado_df = pd.read_sql_query(query, conn)\n",
    "\n",
    "#Show SQL data_app\n",
    "resultado_df"
   ]
  },
  {
   "cell_type": "code",
   "execution_count": null,
   "metadata": {},
   "outputs": [],
   "source": [
    "#important\n",
    "#Close SQLite connection\n",
    "conn.close()"
   ]
  },
  {
   "cell_type": "code",
   "execution_count": null,
   "metadata": {},
   "outputs": [],
   "source": []
  }
 ],
 "metadata": {
  "kernelspec": {
   "display_name": "Python 3 (ipykernel)",
   "language": "python",
   "name": "python3"
  },
  "language_info": {
   "codemirror_mode": {
    "name": "ipython",
    "version": 3
   },
   "file_extension": ".py",
   "mimetype": "text/x-python",
   "name": "python",
   "nbconvert_exporter": "python",
   "pygments_lexer": "ipython3",
   "version": "3.10.8"
  }
 },
 "nbformat": 4,
 "nbformat_minor": 2
}
